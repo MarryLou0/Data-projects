{
 "cells": [
  {
   "cell_type": "code",
   "execution_count": 2,
   "id": "763bd5af",
   "metadata": {
    "scrolled": false
   },
   "outputs": [
    {
     "data": {
      "text/html": [
       "<div>\n",
       "<style scoped>\n",
       "    .dataframe tbody tr th:only-of-type {\n",
       "        vertical-align: middle;\n",
       "    }\n",
       "\n",
       "    .dataframe tbody tr th {\n",
       "        vertical-align: top;\n",
       "    }\n",
       "\n",
       "    .dataframe thead th {\n",
       "        text-align: right;\n",
       "    }\n",
       "</style>\n",
       "<table border=\"1\" class=\"dataframe\">\n",
       "  <thead>\n",
       "    <tr style=\"text-align: right;\">\n",
       "      <th></th>\n",
       "      <th>artist_name</th>\n",
       "      <th>track_name</th>\n",
       "      <th>popularity</th>\n",
       "      <th>acousticness</th>\n",
       "      <th>danceability</th>\n",
       "      <th>energy</th>\n",
       "      <th>liveness</th>\n",
       "    </tr>\n",
       "  </thead>\n",
       "  <tbody>\n",
       "    <tr>\n",
       "      <th>8713</th>\n",
       "      <td>Kensuke Ushio</td>\n",
       "      <td>sketch no.19</td>\n",
       "      <td>23.0</td>\n",
       "      <td>0.98300</td>\n",
       "      <td>0.378</td>\n",
       "      <td>0.1840</td>\n",
       "      <td>0.115</td>\n",
       "    </tr>\n",
       "    <tr>\n",
       "      <th>20796</th>\n",
       "      <td>George Jones</td>\n",
       "      <td>The One I Loved Back Then (The Corvette Song)</td>\n",
       "      <td>49.0</td>\n",
       "      <td>0.51900</td>\n",
       "      <td>0.636</td>\n",
       "      <td>0.4790</td>\n",
       "      <td>0.408</td>\n",
       "    </tr>\n",
       "    <tr>\n",
       "      <th>39000</th>\n",
       "      <td>Sleeping Wolf</td>\n",
       "      <td>New Kings</td>\n",
       "      <td>63.0</td>\n",
       "      <td>0.01470</td>\n",
       "      <td>0.558</td>\n",
       "      <td>0.8170</td>\n",
       "      <td>0.384</td>\n",
       "    </tr>\n",
       "    <tr>\n",
       "      <th>462</th>\n",
       "      <td>Borgore</td>\n",
       "      <td>100s</td>\n",
       "      <td>49.0</td>\n",
       "      <td>0.07940</td>\n",
       "      <td>0.714</td>\n",
       "      <td>0.9080</td>\n",
       "      <td>0.131</td>\n",
       "    </tr>\n",
       "    <tr>\n",
       "      <th>44157</th>\n",
       "      <td>Eric Whitacre</td>\n",
       "      <td>Five Hebrew Love Songs: Temuná (A Picture)</td>\n",
       "      <td>28.0</td>\n",
       "      <td>0.98000</td>\n",
       "      <td>0.143</td>\n",
       "      <td>0.0491</td>\n",
       "      <td>0.064</td>\n",
       "    </tr>\n",
       "    <tr>\n",
       "      <th>...</th>\n",
       "      <td>...</td>\n",
       "      <td>...</td>\n",
       "      <td>...</td>\n",
       "      <td>...</td>\n",
       "      <td>...</td>\n",
       "      <td>...</td>\n",
       "      <td>...</td>\n",
       "    </tr>\n",
       "    <tr>\n",
       "      <th>21782</th>\n",
       "      <td>Josh Abbott Band</td>\n",
       "      <td>All of a Sudden</td>\n",
       "      <td>39.0</td>\n",
       "      <td>0.09290</td>\n",
       "      <td>0.616</td>\n",
       "      <td>0.7640</td>\n",
       "      <td>0.189</td>\n",
       "    </tr>\n",
       "    <tr>\n",
       "      <th>26937</th>\n",
       "      <td>Kid Cudi</td>\n",
       "      <td>Just What I Am</td>\n",
       "      <td>64.0</td>\n",
       "      <td>0.00231</td>\n",
       "      <td>0.653</td>\n",
       "      <td>0.9490</td>\n",
       "      <td>0.410</td>\n",
       "    </tr>\n",
       "    <tr>\n",
       "      <th>3324</th>\n",
       "      <td>Pendulum</td>\n",
       "      <td>Streamline - ATTLAS Remix</td>\n",
       "      <td>32.0</td>\n",
       "      <td>0.28200</td>\n",
       "      <td>0.547</td>\n",
       "      <td>0.9480</td>\n",
       "      <td>0.090</td>\n",
       "    </tr>\n",
       "    <tr>\n",
       "      <th>21288</th>\n",
       "      <td>Corey Kent White</td>\n",
       "      <td>She Ain't Perfect</td>\n",
       "      <td>38.0</td>\n",
       "      <td>0.21000</td>\n",
       "      <td>0.517</td>\n",
       "      <td>0.4940</td>\n",
       "      <td>0.123</td>\n",
       "    </tr>\n",
       "    <tr>\n",
       "      <th>21791</th>\n",
       "      <td>Luke Bryan</td>\n",
       "      <td>Take My Drunk Ass Home</td>\n",
       "      <td>52.0</td>\n",
       "      <td>0.12000</td>\n",
       "      <td>0.643</td>\n",
       "      <td>0.8640</td>\n",
       "      <td>0.323</td>\n",
       "    </tr>\n",
       "  </tbody>\n",
       "</table>\n",
       "<p>1000 rows × 7 columns</p>\n",
       "</div>"
      ],
      "text/plain": [
       "            artist_name                                     track_name  \\\n",
       "8713      Kensuke Ushio                                   sketch no.19   \n",
       "20796      George Jones  The One I Loved Back Then (The Corvette Song)   \n",
       "39000     Sleeping Wolf                                      New Kings   \n",
       "462             Borgore                                           100s   \n",
       "44157     Eric Whitacre     Five Hebrew Love Songs: Temuná (A Picture)   \n",
       "...                 ...                                            ...   \n",
       "21782  Josh Abbott Band                                All of a Sudden   \n",
       "26937          Kid Cudi                                 Just What I Am   \n",
       "3324           Pendulum                      Streamline - ATTLAS Remix   \n",
       "21288  Corey Kent White                              She Ain't Perfect   \n",
       "21791        Luke Bryan                         Take My Drunk Ass Home   \n",
       "\n",
       "       popularity  acousticness  danceability  energy  liveness  \n",
       "8713         23.0       0.98300         0.378  0.1840     0.115  \n",
       "20796        49.0       0.51900         0.636  0.4790     0.408  \n",
       "39000        63.0       0.01470         0.558  0.8170     0.384  \n",
       "462          49.0       0.07940         0.714  0.9080     0.131  \n",
       "44157        28.0       0.98000         0.143  0.0491     0.064  \n",
       "...           ...           ...           ...     ...       ...  \n",
       "21782        39.0       0.09290         0.616  0.7640     0.189  \n",
       "26937        64.0       0.00231         0.653  0.9490     0.410  \n",
       "3324         32.0       0.28200         0.547  0.9480     0.090  \n",
       "21288        38.0       0.21000         0.517  0.4940     0.123  \n",
       "21791        52.0       0.12000         0.643  0.8640     0.323  \n",
       "\n",
       "[1000 rows x 7 columns]"
      ]
     },
     "execution_count": 2,
     "metadata": {},
     "output_type": "execute_result"
    }
   ],
   "source": [
    "import pandas as pd\n",
    "from sklearn.tree import DecisionTreeClassifier\n",
    "\n",
    "music_data = pd.read_csv('music_genre.csv')\n",
    "music_data = music_data.sample(1000)\n",
    "\n",
    "music_data = music_data.drop(columns= ['instance_id', 'duration_ms', 'instrumentalness', 'key', 'loudness', 'mode', 'speechiness', \n",
    "                         'tempo', 'obtained_date', 'valence', 'music_genre'])\n",
    "music_data.fillna(0)\n",
    "music_data"
   ]
  },
  {
   "cell_type": "code",
   "execution_count": 3,
   "id": "8d5e864d",
   "metadata": {},
   "outputs": [],
   "source": [
    "features = ['energy', 'acousticness']\n",
    "X = music_data[features]\n",
    "y = music_data['track_name']\n",
    "model = DecisionTreeClassifier()\n",
    "model.fit(X,y)\n",
    "X_sample = X.sample(10)\n"
   ]
  },
  {
   "cell_type": "code",
   "execution_count": 20,
   "id": "b39798db",
   "metadata": {
    "scrolled": false
   },
   "outputs": [
    {
     "name": "stdout",
     "output_type": "stream",
     "text": [
      "Predictions for following 5 attributes of music: \n",
      "       energy  acousticness\n",
      "33166  0.9460       0.01700\n",
      "33476  0.8510       0.18500\n",
      "44814  0.2450       0.98400\n",
      "31891  0.8950       0.00680\n",
      "44645  0.0188       0.97700\n",
      "6113   0.9070       0.00257\n",
      "7030   0.3300       0.66500\n",
      "26734  0.5410       0.08810\n",
      "12558  0.7330       0.85300\n",
      "18679  0.6370       0.00762\n",
      "Music titles for these songs are:\n",
      "[\"Introduction/Somethin's Happening - Live\" 'Revival'\n",
      " \"You'll Never Walk Alone\" 'Give It Everything You Got'\n",
      " \"Les contes d'Hoffmann, Act II: Ne plus chanter (Live)\" 'good bye'\n",
      " \"It's In Your Eyes\" 'Im Good (feat. Roze & Drumma Battalion)'\n",
      " 'Swing Guitars' 'Panic Prone']\n"
     ]
    }
   ],
   "source": [
    "print('Predictions for following 5 attributes of music: ')\n",
    "print(X_sample)\n",
    "print('Music titles for these songs are:')\n",
    "print(model.predict(X_sample))"
   ]
  },
  {
   "cell_type": "code",
   "execution_count": 22,
   "id": "0d9308f5",
   "metadata": {},
   "outputs": [
    {
     "name": "stderr",
     "output_type": "stream",
     "text": [
      "C:\\Users\\0marr\\anaconda3\\lib\\site-packages\\sklearn\\base.py:450: UserWarning: X does not have valid feature names, but DecisionTreeClassifier was fitted with feature names\n",
      "  warnings.warn(\n"
     ]
    },
    {
     "data": {
      "text/plain": [
       "array([\"Devil's Ambition\"], dtype=object)"
      ]
     },
     "execution_count": 22,
     "metadata": {},
     "output_type": "execute_result"
    }
   ],
   "source": [
    "model.predict([['0.18', '0.90']])"
   ]
  },
  {
   "cell_type": "code",
   "execution_count": null,
   "id": "50388dcd",
   "metadata": {},
   "outputs": [],
   "source": []
  }
 ],
 "metadata": {
  "kernelspec": {
   "display_name": "Python 3 (ipykernel)",
   "language": "python",
   "name": "python3"
  },
  "language_info": {
   "codemirror_mode": {
    "name": "ipython",
    "version": 3
   },
   "file_extension": ".py",
   "mimetype": "text/x-python",
   "name": "python",
   "nbconvert_exporter": "python",
   "pygments_lexer": "ipython3",
   "version": "3.9.12"
  }
 },
 "nbformat": 4,
 "nbformat_minor": 5
}
